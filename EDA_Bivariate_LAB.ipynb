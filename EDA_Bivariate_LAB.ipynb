{
 "cells": [
  {
   "cell_type": "code",
   "execution_count": 142,
   "id": "5fec9410-c8f5-4354-bae4-adb6ae9565b9",
   "metadata": {},
   "outputs": [],
   "source": [
    "import pandas as pd\n",
    "import matplotlib.pyplot as plt\n",
    "import seaborn as sns\n",
    "import numpy as np\n",
    "df = pd.read_csv(\"Data assets/amz_uk_price_prediction_dataset.csv\") "
   ]
  },
  {
   "cell_type": "markdown",
   "id": "4cb9a8cf-8307-4bea-a76d-a78a2742d78c",
   "metadata": {
    "jp-MarkdownHeadingCollapsed": true
   },
   "source": [
    "# Part 1: Analyzing Best-Seller Trends Across Product Categories\n",
    "Objective: Understand the relationship between product categories and their best-seller status.\n",
    "\n",
    "Crosstab Analysis:\n",
    "\n",
    "Create a crosstab between the product category and the isBestSeller status.\n",
    "\n",
    "Are there categories where being a best-seller is more prevalent?\n",
    "\n",
    "Hint: one option is to calculate the proportion of best-sellers for each category and then sort the categories based on this proportion in descending order.\n",
    "\n",
    "Statistical Tests:\n",
    "\n",
    "Conduct a Chi-square test to determine if the best-seller distribution is independent of the product category.\n",
    "Compute Cramér's V to understand the strength of association between best-seller status and category.\n",
    "Visualizations:\n",
    "\n",
    "Visualize the relationship between product categories and the best-seller status using a stacked bar chart."
   ]
  },
  {
   "cell_type": "code",
   "execution_count": 241,
   "id": "3f6a2b38-085b-4a2b-a70b-f0edc30ba41f",
   "metadata": {},
   "outputs": [
    {
     "data": {
      "text/html": [
       "<div>\n",
       "<style scoped>\n",
       "    .dataframe tbody tr th:only-of-type {\n",
       "        vertical-align: middle;\n",
       "    }\n",
       "\n",
       "    .dataframe tbody tr th {\n",
       "        vertical-align: top;\n",
       "    }\n",
       "\n",
       "    .dataframe thead th {\n",
       "        text-align: right;\n",
       "    }\n",
       "</style>\n",
       "<table border=\"1\" class=\"dataframe\">\n",
       "  <thead>\n",
       "    <tr style=\"text-align: right;\">\n",
       "      <th>isBestSeller</th>\n",
       "      <th>False</th>\n",
       "      <th>True</th>\n",
       "      <th>Proportion</th>\n",
       "    </tr>\n",
       "    <tr>\n",
       "      <th>category</th>\n",
       "      <th></th>\n",
       "      <th></th>\n",
       "      <th></th>\n",
       "    </tr>\n",
       "  </thead>\n",
       "  <tbody>\n",
       "    <tr>\n",
       "      <th>Grocery</th>\n",
       "      <td>9008</td>\n",
       "      <td>556</td>\n",
       "      <td>0.058135</td>\n",
       "    </tr>\n",
       "    <tr>\n",
       "      <th>Smart Home Security &amp; Lighting</th>\n",
       "      <td>98</td>\n",
       "      <td>6</td>\n",
       "      <td>0.057692</td>\n",
       "    </tr>\n",
       "    <tr>\n",
       "      <th>Health &amp; Personal Care</th>\n",
       "      <td>9017</td>\n",
       "      <td>552</td>\n",
       "      <td>0.057686</td>\n",
       "    </tr>\n",
       "    <tr>\n",
       "      <th>Mobile Phone Accessories</th>\n",
       "      <td>248</td>\n",
       "      <td>11</td>\n",
       "      <td>0.042471</td>\n",
       "    </tr>\n",
       "    <tr>\n",
       "      <th>Power &amp; Hand Tools</th>\n",
       "      <td>8353</td>\n",
       "      <td>306</td>\n",
       "      <td>0.035339</td>\n",
       "    </tr>\n",
       "    <tr>\n",
       "      <th>...</th>\n",
       "      <td>...</td>\n",
       "      <td>...</td>\n",
       "      <td>...</td>\n",
       "    </tr>\n",
       "    <tr>\n",
       "      <th>CD, Disc &amp; Tape Players</th>\n",
       "      <td>8798</td>\n",
       "      <td>0</td>\n",
       "      <td>0.000000</td>\n",
       "    </tr>\n",
       "    <tr>\n",
       "      <th>General Music-Making Accessories</th>\n",
       "      <td>259</td>\n",
       "      <td>0</td>\n",
       "      <td>0.000000</td>\n",
       "    </tr>\n",
       "    <tr>\n",
       "      <th>Snowboard Boots</th>\n",
       "      <td>1449</td>\n",
       "      <td>0</td>\n",
       "      <td>0.000000</td>\n",
       "    </tr>\n",
       "    <tr>\n",
       "      <th>Boxes &amp; Organisers</th>\n",
       "      <td>911</td>\n",
       "      <td>0</td>\n",
       "      <td>0.000000</td>\n",
       "    </tr>\n",
       "    <tr>\n",
       "      <th>eBook Readers &amp; Accessories</th>\n",
       "      <td>246</td>\n",
       "      <td>0</td>\n",
       "      <td>0.000000</td>\n",
       "    </tr>\n",
       "  </tbody>\n",
       "</table>\n",
       "<p>296 rows × 3 columns</p>\n",
       "</div>"
      ],
      "text/plain": [
       "isBestSeller                      False  True  Proportion\n",
       "category                                                 \n",
       "Grocery                            9008   556    0.058135\n",
       "Smart Home Security & Lighting       98     6    0.057692\n",
       "Health & Personal Care             9017   552    0.057686\n",
       "Mobile Phone Accessories            248    11    0.042471\n",
       "Power & Hand Tools                 8353   306    0.035339\n",
       "...                                 ...   ...         ...\n",
       "CD, Disc & Tape Players            8798     0    0.000000\n",
       "General Music-Making Accessories    259     0    0.000000\n",
       "Snowboard Boots                    1449     0    0.000000\n",
       "Boxes & Organisers                  911     0    0.000000\n",
       "eBook Readers & Accessories         246     0    0.000000\n",
       "\n",
       "[296 rows x 3 columns]"
      ]
     },
     "execution_count": 241,
     "metadata": {},
     "output_type": "execute_result"
    }
   ],
   "source": [
    "cat_isbest = pd.crosstab(df['category'], df['isBestSeller'])\n",
    "cat_isbest['Proportion'] = cat_isbest[True] / (cat_isbest[True] + cat_isbest[False])\n",
    "cat_isbest_sorted = cat_isbest.sort_values(by='Proportion', ascending=False)\n",
    "cat_isbest_sorted"
   ]
  },
  {
   "cell_type": "code",
   "execution_count": 231,
   "id": "e4316194-f21b-4168-85be-cce0c6e9b92b",
   "metadata": {},
   "outputs": [],
   "source": [
    "cat_isbest2 = pd.crosstab(df['category'], df['isBestSeller'])"
   ]
  },
  {
   "cell_type": "code",
   "execution_count": 233,
   "id": "d1e3764d-d9c9-4fc8-b31d-90236da7524a",
   "metadata": {},
   "outputs": [
    {
     "data": {
      "text/plain": [
       "(36540.20270061387, 0.0)"
      ]
     },
     "execution_count": 233,
     "metadata": {},
     "output_type": "execute_result"
    }
   ],
   "source": [
    "from scipy.stats import chi2_contingency\n",
    "\n",
    "chi2_statistic, chi2_p_value, _, _ = chi2_contingency(cat_isbest2)\n",
    "\n",
    "chi2_statistic, chi2_p_value"
   ]
  },
  {
   "cell_type": "code",
   "execution_count": 235,
   "id": "9566e4f1-8bcb-445d-8111-1d1568ce1385",
   "metadata": {},
   "outputs": [
    {
     "data": {
      "text/plain": [
       "0.1222829439760564"
      ]
     },
     "execution_count": 235,
     "metadata": {},
     "output_type": "execute_result"
    }
   ],
   "source": [
    "from scipy.stats.contingency import association\n",
    "\n",
    "association(cat_isbest2, method=\"cramer\")"
   ]
  },
  {
   "cell_type": "code",
   "execution_count": 243,
   "id": "7b11047a-3131-47ef-ad25-517c2a77bb65",
   "metadata": {},
   "outputs": [
    {
     "data": {
      "text/plain": [
       "<Axes: xlabel='category'>"
      ]
     },
     "execution_count": 243,
     "metadata": {},
     "output_type": "execute_result"
    },
    {
     "data": {
      "image/png": "[encoded data removed]",
      "text/plain": [
       "<Figure size 640x480 with 1 Axes>"
      ]
     },
     "metadata": {},
     "output_type": "display_data"
    }
   ],
   "source": [
    "cat_isbest2.head(10).plot(kind=\"bar\", stacked=True)"
   ]
  },
  {
   "cell_type": "markdown",
   "id": "a78c9c7c-92a7-4a0a-8555-d35ae621131e",
   "metadata": {
    "jp-MarkdownHeadingCollapsed": true
   },
   "source": [
    "# Part 2: Exploring Product Prices and Ratings Across Categories and Brands\n",
    "Objective: Investigate how different product categories influence product prices.\n",
    "\n",
    "Preliminary Step: Remove outliers in product prices.\n",
    "\n",
    "For this purpose, we can use the IQR (Interquartile Range) method. Products priced below the first quartile minus 1.5 times the IQR or above the third quartile plus 1.5 times the IQR will be considered outliers and removed from the dataset. The next steps will be done with the dataframe without outliers.\n",
    "\n",
    "Hint: you can check the last Check For Understanding at the end of the lesson EDA Bivariate Analysis for a hint on how to do this.\n",
    "\n",
    "Violin Plots:\n",
    "\n",
    "Use a violin plot to visualize the distribution of price across different product categories. Filter out the top 20 categories based on count for better visualization.\n",
    "Which product category tends to have the highest median price? Don't filter here by top categories.\n",
    "Bar Charts:\n",
    "\n",
    "Create a bar chart comparing the average price of products for the top 10 product categories (based on count).\n",
    "Which product category commands the highest average price? Don't filter here by top categories.\n",
    "Box Plots:\n",
    "\n",
    "Visualize the distribution of product ratings based on their category using side-by-side box plots. Filter out the top 10 categories based on count for better visualization.\n",
    "Which category tends to receive the highest median rating from customers? Don't filter here by top categories."
   ]
  },
  {
   "cell_type": "markdown",
   "id": "6f9b4c2e-11e8-4401-9a36-c4e8935acb5f",
   "metadata": {
    "jp-MarkdownHeadingCollapsed": true
   },
   "source": [
    "# Part 3: Investigating the Interplay Between Product Prices and Ratings\n",
    "Objective: Analyze how product ratings (stars) correlate with product prices.\n",
    "\n",
    "Correlation Coefficients:\n",
    "\n",
    "Calculate the correlation coefficient between price and stars.\n",
    "Is there a significant correlation between product price and its rating?\n",
    "Visualizations:\n",
    "\n",
    "Use a scatter plot to visualize the relationship between product rating and price. What patterns can you observe?\n",
    "Use a correlation heatmap to visualize correlations between all numerical variables.\n",
    "Examine if product prices typically follow a normal distribution using a QQ plot.\n"
   ]
  },
  {
   "cell_type": "code",
   "execution_count": null,
   "id": "d0721084-22e8-4eef-9866-12e975a27233",
   "metadata": {},
   "outputs": [],
   "source": []
  }
 ],
 "metadata": {
  "kernelspec": {
   "display_name": "Python [conda env:base] *",
   "language": "python",
   "name": "conda-base-py"
  },
  "language_info": {
   "codemirror_mode": {
    "name": "ipython",
    "version": 3
   },
   "file_extension": ".py",
   "mimetype": "text/x-python",
   "name": "python",
   "nbconvert_exporter": "python",
   "pygments_lexer": "ipython3",
   "version": "3.12.7"
  }
 },
 "nbformat": 4,
 "nbformat_minor": 5
}
